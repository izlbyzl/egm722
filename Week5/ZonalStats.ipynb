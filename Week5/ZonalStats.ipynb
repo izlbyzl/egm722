{
 "cells": [
  {
   "cell_type": "markdown",
   "id": "latest-anime",
   "metadata": {},
   "source": [
    "# zonal statistics using rasterstats\n",
    "\n",
    "## overview\n",
    "\n",
    "Up to now, we have worked with either vector data or raster data, but we haven't really used them together. In this week's practical, we'll learn how we can combine these two data types, and see some examples of different analyses, such as zonal statistics or sampling raster data, that we can automate using python.\n",
    "\n",
    "## objectives\n",
    "-  learn how to use `rasterstats` to perform zonal statistics\n",
    "-  use the `zip` built-in to combine iterables such as lists\n",
    "-  learn how to handle exceptions using `try` ... `except` blocks\n",
    "-  rasterize polygon data using `rasterio`\n",
    "-  learn how to mask and select (index) rasters using vector data\n",
    "-  see additional plotting examples using `matplotlib`\n",
    "\n",
    "## data provided\n",
    "\n",
    "In the data\\_files folder, you should have the following:\n",
    "-  LCM2015_Aggregate_100m.tif\n",
    "-  NI_DEM.tif\n",
    "\n",
    "\n",
    "## getting started\n",
    "\n",
    "In this practical, we'll look at a number of different GIS tasks related to working with both raster and vector data in python, as well as a few different python and programming concepts. To get started, run the cell below."
   ]
  },
  {
   "cell_type": "code",
   "execution_count": 1,
   "id": "measured-crown",
   "metadata": {},
   "outputs": [],
   "source": [
    "%matplotlib inline\n",
    "\n",
    "import numpy as np\n",
    "import rasterio as rio\n",
    "import pandas as pd\n",
    "import geopandas as gpd\n",
    "import matplotlib.pyplot as plt\n",
    "import rasterstats"
   ]
  },
  {
   "cell_type": "markdown",
   "id": "fifty-water",
   "metadata": {},
   "source": [
    "## zonal statistics\n",
    "In GIS, [_zonal statistics_](https://pro.arcgis.com/en/pro-app/latest/tool-reference/spatial-analyst/how-zonal-statistics-works.htm) is a process whereby you calculate statistics for the pixels of a raster in different groups, or zones, defined by properties in another dataset. In this example, we're going to use the Northern Ireland County border dataset from Week 2, along with a re-classified version of the Northern Ireland [Land Cover Map](https://catalogue.ceh.ac.uk/documents/47f053a0-e34f-4534-a843-76f0a0998a2f) 2015[<sup id=\"fn1-back\">1</sup>](#fn1 \"footnote 1\").\n",
    "\n",
    "The Land Cover Map tells, for each pixel, what type of land cover is associated with a location - that is, whether it's woodland (and what kind of woodland), grassland, urban or built-up areas, and so on. For our re-classified version of the dataset, we're working with the aggregate class data, re-sampled to 100m resolution from the original 25m resolution.\n",
    "\n",
    "The raster data type is *unsigned integer* with a *bitdepth* of 8 bits - that is, it has a range of possible values from 0 to 255. Even though it has this range of possible values, we only use 10 (11) of them:\n",
    "\n",
    "| Raster value | Aggregate class name       |\n",
    "| :------------|:---------------------------|\n",
    "| 0            | No Data                    |\n",
    "| 1            | Broadleaf woodland         |\n",
    "| 2            | Coniferous woodland        |\n",
    "| 3            | Arable                     |\n",
    "| 4            | Improved grassland         |\n",
    "| 5            | Semi-natural grassland     |\n",
    "| 6            | Mountain, heath, bog       |\n",
    "| 7            | Saltwater                  |\n",
    "| 8            | Freshwater                 |\n",
    "| 9            | Coastal                    |\n",
    "| 10           | Built-up areas and gardens |\n",
    "\n",
    "In the cell below, we'll first define a **list** of landcover class names, in the order shown in the table above. Then, we'll use `range()` to create a list of values from 1 to 10, corresponding to the raster value of each landcover class."
   ]
  },
  {
   "cell_type": "code",
   "execution_count": 2,
   "id": "e5fa9a5d-fb98-45ac-854c-eabbbb171cae",
   "metadata": {},
   "outputs": [],
   "source": [
    "# define the landcover class names in a list\n",
    "names = ['Broadleaf woodland', 'Coniferous woodland', 'Arable', 'Improved grassland', 'Semi-natural grassland', \n",
    "         'Mountain, heath, bog', 'Saltwater', 'Freshwater', 'Coastal', 'Built-up areas and gardens']\n",
    "\n",
    "values = range(1, 11) # get numbers from 1-10, corresponding to the landcover values"
   ]
  },
  {
   "cell_type": "markdown",
   "id": "7badea32-84fa-413b-bd3d-899c6e3ba7e2",
   "metadata": {},
   "source": [
    "Next, we'll use a combination of the `zip()` built-in function ([documentation](https://docs.python.org/3/library/functions.html#zip)), along with `dict()` ([documentation](https://docs.python.org/3/library/functions.html#func-dict)), to create a **dict** object of **key**/**value** pairs that maps each raster value (the **key**) to a class name (the **value**):"
   ]
  },
  {
   "cell_type": "code",
   "execution_count": 3,
   "id": "0eb40a8b",
   "metadata": {},
   "outputs": [],
   "source": [
    "landcover_names = dict(zip(values, names)) # create a dict of landcover value/name pairs"
   ]
  },
  {
   "cell_type": "markdown",
   "id": "ef94dbeb",
   "metadata": {},
   "source": [
    "We'll use this later on, when we want to make our outputs more readable/understandable.\n",
    "\n",
    "In this part of the practical, we'll try to work out the percentage of the entire country, and of each county individually, that is covered by each of these different landcovers. \n",
    "\n",
    "To start, we'll load the `LCM2015_Aggregate_100m.tif` raster, as well as the counties shapefile from Week 2:"
   ]
  },
  {
   "cell_type": "code",
   "execution_count": 4,
   "id": "nominated-orleans",
   "metadata": {},
   "outputs": [],
   "source": [
    "# open the land cover raster and read the data\n",
    "with rio.open('data_files/LCM2015_Aggregate_100m.tif') as dataset:\n",
    "    xmin, ymin, xmax, ymax = dataset.bounds \n",
    "    crs = dataset.crs\n",
    "    landcover = dataset.read(1)\n",
    "    affine_tfm = dataset.transform\n",
    "\n",
    "# now, load the county dataset from the week 2 folder\n",
    "counties = gpd.read_file('../Week2/data_files/Counties.shp').to_crs(crs)"
   ]
  },
  {
   "cell_type": "markdown",
   "id": "947dd69e-a98c-4de1-932a-7e9616f7c570",
   "metadata": {},
   "source": [
    "Next, we'll define a function that takes an array, and returns a **dict** object containing the count (number of pixels) for each of the unique values in the array:"
   ]
  },
  {
   "cell_type": "code",
   "execution_count": 5,
   "id": "absolute-croatia",
   "metadata": {},
   "outputs": [],
   "source": [
    "def count_unique(array, names, nodata=0):\n",
    "    '''\n",
    "    Count the unique elements of an array.\n",
    "\n",
    "    :param array: Input array\n",
    "    :param names: a dict of key/value pairs that map raster values to a name\n",
    "    :param nodata: nodata value to ignore in the counting\n",
    "    \n",
    "    :returns count_dict: a dictionary of unique values and counts\n",
    "    '''\n",
    "    count_dict = dict() # create the output dict\n",
    "    for val in np.unique(array): # iterate over the unique values for the raster\n",
    "        if val == nodata: # if the value is equal to our nodata value, move on to the next one\n",
    "            continue\n",
    "        count_dict[names[val]] = np.count_nonzero(array == val)\n",
    "    return count_dict # return the now-populated output dict"
   ]
  },
  {
   "cell_type": "markdown",
   "id": "living-immune",
   "metadata": {},
   "source": [
    "Here, we have three input parameters: the first, `array`, is our array (or raster data). The next, `names`, is a dict of **key**/**value** pairs to provide human-readable names for each raster value. Finally, `nodata` is the value of the input array that we should ignore. \n",
    "\n",
    "The first line of the function defines an empty **dict**:\n",
    "\n",
    "```python\n",
    "count_dict = dict()\n",
    "```\n",
    "\n",
    "This is the empty container into which we'll place the **key**/**value** pairs corresponding to the count for each landcover class.\n",
    "\n",
    "Next, using `numpy.unique()` ([documentation](https://numpy.org/doc/stable/reference/generated/numpy.unique.html)), we get an array containing the unique values of the input array. \n",
    "\n",
    "Note that this works for data like this raster, where we have a limited number of pre-defined values. For something like a digital elevation model, which represents continuous floating-point values, we wouldn't want to use this approach to bin the data - we'll see how we can handle continuous data later on.\n",
    "\n",
    "For each of the different unique values `val`, we find all of the locations in `array` that have that value (`array == val`). Note that this is actually a boolean array, with values of either `True` where `array == val`, and `False` where `array != val`. `numpy.count_nonzero()` ([documentation](https://numpy.org/doc/stable/reference/generated/numpy.count_nonzero.html)) then counts the number of non-zero (in this case, `True`) values in the array - that is, this:\n",
    "\n",
    "```python\n",
    "np.count_nonzero(array == val)\n",
    "```\n",
    "\n",
    "tells us the number of pixels in `array` that are equal to `val`. We then assign this to our dictionary with a key that is a __str__ representation of the value, before returning our `count_dict` variable at the end of the function.\n",
    "\n",
    "Run the cell below to run the function on our `landcover` raster:"
   ]
  },
  {
   "cell_type": "code",
   "execution_count": 6,
   "id": "65931094-8f0a-43d3-84a7-1b42fce091b6",
   "metadata": {},
   "outputs": [
    {
     "name": "stdout",
     "output_type": "stream",
     "text": [
      "{'Broadleaf woodland': 40311, 'Coniferous woodland': 73386, 'Arable': 90736, 'Improved grassland': 834512, 'Semi-natural grassland': 75980, 'Mountain, heath, bog': 179942, 'Saltwater': 16991, 'Freshwater': 60877, 'Coastal': 14085, 'Built-up areas and gardens': 56598}\n"
     ]
    }
   ],
   "source": [
    "landcover_count = count_unique(landcover, landcover_names)\n",
    "print(landcover_count) # show the results"
   ]
  },
  {
   "cell_type": "markdown",
   "id": "subject-nursery",
   "metadata": {},
   "source": [
    "<span style=\"color:#009fdf;font-size:1.1em;font-weight:bold\">Exercise: can you work out the percentage area of Northern Ireland that is covered by each of the 10 landcover classes?</span>"
   ]
  },
  {
   "cell_type": "code",
   "execution_count": 9,
   "id": "unauthorized-insider",
   "metadata": {},
   "outputs": [
    {
     "name": "stdout",
     "output_type": "stream",
     "text": [
      "Total non-nodata pixels: 1443418\n",
      "\n",
      "Landcover class percentage areas:\n",
      "Broadleaf woodland: 2.79%\n",
      "Coniferous woodland: 5.08%\n",
      "Arable: 6.29%\n",
      "Improved grassland: 57.81%\n",
      "Semi-natural grassland: 5.26%\n",
      "Mountain, heath, bog: 12.47%\n",
      "Saltwater: 1.18%\n",
      "Freshwater: 4.22%\n",
      "Coastal: 0.98%\n",
      "Built-up areas and gardens: 3.92%\n"
     ]
    }
   ],
   "source": [
    "# start by using count_unique to get the number of pixels corresponding to each landcover class\n",
    "\n",
    "# now, get the total number of pixels in the image that aren't nodata\n",
    "# hint: use np.count_nonzero()\n",
    "nodata_value = dataset.nodata\n",
    "if nodata_value is not None:\n",
    "    non_nodata_pixels = np.count_nonzero(landcover != nodata_value)\n",
    "else:\n",
    "    non_nodata_pixels = np.count_nonzero(landcover)\n",
    "print(f'Total non-nodata pixels: {non_nodata_pixels}')\n",
    "# now, iterate over the dictionary items to express the number of pixels as a percentage of the total pixels\n",
    "percentages = {}\n",
    "for class_name, pixel_count in landcover_count.items():\n",
    "    percentage = (pixel_count / non_nodata_pixels) * 100\n",
    "    percentages[class_name] = percentage\n",
    "print('\\nLandcover class percentage areas:')\n",
    "for class_name, percentage in percentages.items():\n",
    "    print(f'{class_name}: {percentage:.2f}%')\n",
    "\n"
   ]
  },
  {
   "cell_type": "markdown",
   "id": "classical-dayton",
   "metadata": {},
   "source": [
    "Now, let's have a look at the help for `rasterstats.gen_zonal_stats()` ([documentation](https://pythonhosted.org/rasterstats/rasterstats.html#rasterstats.gen_zonal_stats)), which will tell us how we can use `rasterstats` to get zonal statistics for a raster and vector geometry:"
   ]
  },
  {
   "cell_type": "code",
   "execution_count": 10,
   "id": "f744ccbf",
   "metadata": {},
   "outputs": [
    {
     "name": "stdout",
     "output_type": "stream",
     "text": [
      "Help on function gen_zonal_stats in module rasterstats.main:\n",
      "\n",
      "gen_zonal_stats(\n",
      "    vectors,\n",
      "    raster,\n",
      "    layer=0,\n",
      "    band=1,\n",
      "    nodata=None,\n",
      "    affine=None,\n",
      "    stats=None,\n",
      "    all_touched=False,\n",
      "    categorical=False,\n",
      "    category_map=None,\n",
      "    add_stats=None,\n",
      "    zone_func=None,\n",
      "    raster_out=False,\n",
      "    prefix=None,\n",
      "    geojson_out=False,\n",
      "    boundless=True,\n",
      "    **kwargs\n",
      ")\n",
      "    Zonal statistics of raster values aggregated to vector geometries.\n",
      "\n",
      "    Parameters\n",
      "    ----------\n",
      "    vectors: path to an vector source or geo-like python objects\n",
      "\n",
      "    raster: ndarray or path to a GDAL raster source\n",
      "        If ndarray is passed, the ``affine`` kwarg is required.\n",
      "\n",
      "    layer: int or string, optional\n",
      "        If `vectors` is a path to a fiona source,\n",
      "        specify the vector layer to use either by name or number.\n",
      "        defaults to 0\n",
      "\n",
      "    band: int, optional\n",
      "        If `raster` is a GDAL source, the band number to use (counting from 1).\n",
      "        defaults to 1.\n",
      "\n",
      "    nodata: float, optional\n",
      "        If `raster` is a GDAL source, this value overrides any NODATA value\n",
      "        specified in the file's metadata.\n",
      "        If `None`, the file's metadata's NODATA value (if any) will be used.\n",
      "        defaults to `None`.\n",
      "\n",
      "    affine: Affine instance\n",
      "        required only for ndarrays, otherwise it is read from src\n",
      "\n",
      "    stats:  list of str, or space-delimited str, optional\n",
      "        Which statistics to calculate for each zone.\n",
      "        All possible choices are listed in ``utils.VALID_STATS``.\n",
      "        defaults to ``DEFAULT_STATS``, a subset of these.\n",
      "\n",
      "    all_touched: bool, optional\n",
      "        Whether to include every raster cell touched by a geometry, or only\n",
      "        those having a center point within the polygon.\n",
      "        defaults to `False`\n",
      "\n",
      "    categorical: bool, optional\n",
      "\n",
      "    category_map: dict\n",
      "        A dictionary mapping raster values to human-readable categorical names.\n",
      "        Only applies when categorical is True\n",
      "\n",
      "    add_stats: dict\n",
      "        with names and functions of additional stats to compute, optional\n",
      "\n",
      "    zone_func: callable\n",
      "        function to apply to zone ndarray prior to computing stats\n",
      "\n",
      "    raster_out: boolean\n",
      "        Include the masked numpy array for each feature?, optional\n",
      "\n",
      "        Each feature dictionary will have the following additional keys:\n",
      "        mini_raster_array: The clipped and masked numpy array\n",
      "        mini_raster_affine: Affine transformation\n",
      "        mini_raster_nodata: NoData Value\n",
      "\n",
      "    prefix: string\n",
      "        add a prefix to the keys (default: None)\n",
      "\n",
      "    geojson_out: boolean\n",
      "        Return list of GeoJSON-like features (default: False)\n",
      "        Original feature geometry and properties will be retained\n",
      "        with zonal stats appended as additional properties.\n",
      "        Use with `prefix` to ensure unique and meaningful property names.\n",
      "\n",
      "    boundless: boolean\n",
      "        Allow features that extend beyond the raster dataset’s extent, default: True\n",
      "        Cells outside dataset extents are treated as nodata.\n",
      "\n",
      "    Returns\n",
      "    -------\n",
      "    generator of dicts (if geojson_out is False)\n",
      "        Each item corresponds to a single vector feature and\n",
      "        contains keys for each of the specified stats.\n",
      "\n",
      "    generator of geojson features (if geojson_out is True)\n",
      "        GeoJSON-like Feature as python dict\n",
      "\n"
     ]
    }
   ],
   "source": [
    "help(rasterstats.gen_zonal_stats)"
   ]
  },
  {
   "cell_type": "markdown",
   "id": "5a84498e",
   "metadata": {},
   "source": [
    "In the output of the cell above, you should see the usage for `rasterstats.gen_zonal_stats()`, which is the same as the usage for `rasterstats.zonal_stats()`. Have a look at the documentation - we'll go over an example below, but there are many more useful features that we won't go into in the tutorial.\n",
    "\n",
    "In the following cell, we use `rasterstats.zonal_stats()` ([documentation](https://pythonhosted.org/rasterstats/manual.html#zonal-statistics)) with our `counties` and `landcover` datasets to do the same exercise as above (counting unique pixel values).\n",
    "\n",
    "Rather than counting the pixels in the entire raster, however, we want to count the number of pixels with each land cover value that fall within a specific area defined by each of the features in the  `counties` dataset:"
   ]
  },
  {
   "cell_type": "code",
   "execution_count": 11,
   "id": "affiliated-generator",
   "metadata": {},
   "outputs": [
    {
     "name": "stdout",
     "output_type": "stream",
     "text": [
      "<class 'list'>\n",
      "{'Broadleaf woodland': 7221, 'Coniferous woodland': 20069, 'Arable': 6178, 'Improved grassland': 204078, 'Semi-natural grassland': 17176, 'Mountain, heath, bog': 54540, 'Freshwater': 11464, 'Coastal': 1, 'Built-up areas and gardens': 5649}\n"
     ]
    }
   ],
   "source": [
    "county_stats = rasterstats.zonal_stats(counties, # the shapefile to use\n",
    "                                       landcover, # the raster to use - here, we're using the numpy array loaded using rasterio\n",
    "                                       affine=affine_tfm, # the geotransform for the raster\n",
    "                                       categorical=True, # whether the data are categorical\n",
    "                                       category_map=landcover_names,\n",
    "                                       nodata=0 # the nodata value for the raster\n",
    "                                      )\n",
    "\n",
    "print(type(county_stats)) # county_stats is a list of dict objects\n",
    "print(county_stats[0]) # shows the landcover use for county tyrone (index 0 in counties geodataframe)"
   ]
  },
  {
   "cell_type": "markdown",
   "id": "subtle-balance",
   "metadata": {},
   "source": [
    "## the zip built-in\n",
    "\n",
    "We introduced the `zip()` built-in function above, but it's worth discussing this powerful and useful function in a bit more detail. \n",
    "\n",
    "In Python 3, `zip()` returns a **zip** object that combines elements from each of the iterable objects passed as arguments:"
   ]
  },
  {
   "cell_type": "code",
   "execution_count": 12,
   "id": "arbitrary-trinity",
   "metadata": {},
   "outputs": [
    {
     "name": "stdout",
     "output_type": "stream",
     "text": [
      "<zip object at 0x000002AB87E15740>\n"
     ]
    }
   ],
   "source": [
    "x = [1, 2, 3, 4]\n",
    "y = ['a', 'b', 'c', 'd']\n",
    "\n",
    "print(zip(x, y))"
   ]
  },
  {
   "cell_type": "markdown",
   "id": "f01ff4ee",
   "metadata": {},
   "source": [
    "We have seen something similar with **iterator** objects before - for example, the output of `range()` is an **iterator**. As we have seen, we can *iterate* over the items of the **iterator** object, or we can use something like `list()` to convert the **iterator** into another type of object:"
   ]
  },
  {
   "cell_type": "code",
   "execution_count": 13,
   "id": "5a6a5a39",
   "metadata": {},
   "outputs": [
    {
     "name": "stdout",
     "output_type": "stream",
     "text": [
      "[(1, 'a'), (2, 'b'), (3, 'c'), (4, 'd')]\n"
     ]
    }
   ],
   "source": [
    "print(list(zip(x, y)))"
   ]
  },
  {
   "cell_type": "markdown",
   "id": "06857750",
   "metadata": {},
   "source": [
    "And, as we saw above, we can also pass the output of `zip()` to `dict()`, to create a **dict** of **key**/**value** pairs - this is an efficient way to create a **dict** object from two **list** objects of different items:"
   ]
  },
  {
   "cell_type": "code",
   "execution_count": 14,
   "id": "22b6f1e3",
   "metadata": {},
   "outputs": [
    {
     "name": "stdout",
     "output_type": "stream",
     "text": [
      "{1: 'a', 2: 'b', 3: 'c', 4: 'd'}\n"
     ]
    }
   ],
   "source": [
    "print(dict(zip(x, y)))"
   ]
  },
  {
   "cell_type": "markdown",
   "id": "intermediate-saskatchewan",
   "metadata": {},
   "source": [
    "One thing to keep in mind, though, is that with `zip(x, y)`, each of the elements of `x` is paired with the corresponding element from `y`. If `x` and `y` are different lengths, `zip(x, y)` will only use up to the shorter of the two:"
   ]
  },
  {
   "cell_type": "code",
   "execution_count": 15,
   "id": "danish-wholesale",
   "metadata": {},
   "outputs": [
    {
     "data": {
      "text/plain": [
       "[(1, 'a'), (2, 'b'), (3, 'c')]"
      ]
     },
     "execution_count": 15,
     "metadata": {},
     "output_type": "execute_result"
    }
   ],
   "source": [
    "x = [1, 2, 3]\n",
    "\n",
    "list(zip(x, y))"
   ]
  },
  {
   "cell_type": "markdown",
   "id": "a378bb08",
   "metadata": {},
   "source": [
    "As a final example, we can also use `zip()` to combine more than two iterables - we're not limited to a single pair of iterables:"
   ]
  },
  {
   "cell_type": "code",
   "execution_count": 16,
   "id": "c752dd18",
   "metadata": {},
   "outputs": [
    {
     "name": "stdout",
     "output_type": "stream",
     "text": [
      "[(1, 'a', 'i'), (2, 'b', 'ii'), (3, 'c', 'iii'), (4, 'd', 'iv')]\n"
     ]
    }
   ],
   "source": [
    "x = [1, 2, 3, 4]\n",
    "y = ['a', 'b', 'c', 'd']\n",
    "z = ['i', 'ii', 'iii', 'iv']\n",
    "\n",
    "print(list(zip(x, y, z)))"
   ]
  },
  {
   "cell_type": "markdown",
   "id": "funded-locator",
   "metadata": {},
   "source": [
    "Now, let's use `zip()` to create a **dict** that returns the landcover stats for each county, given the county name.\n",
    "\n",
    "First, we can use a *list comprehension* to get a list of the county names, formatted using `str.title()`:"
   ]
  },
  {
   "cell_type": "code",
   "execution_count": 17,
   "id": "ranging-australian",
   "metadata": {},
   "outputs": [],
   "source": [
    "names = [n.title() for n in counties['CountyName']] # use str.title() because we're not shouting"
   ]
  },
  {
   "cell_type": "markdown",
   "id": "personal-dynamics",
   "metadata": {},
   "source": [
    "Now, we use `dict()` and `zip()` to create the **dict** object of landcover stats by county:"
   ]
  },
  {
   "cell_type": "code",
   "execution_count": 18,
   "id": "north-least",
   "metadata": {},
   "outputs": [
    {
     "name": "stdout",
     "output_type": "stream",
     "text": [
      "{'Broadleaf woodland': 7221, 'Coniferous woodland': 20069, 'Arable': 6178, 'Improved grassland': 204078, 'Semi-natural grassland': 17176, 'Mountain, heath, bog': 54540, 'Freshwater': 11464, 'Coastal': 1, 'Built-up areas and gardens': 5649}\n"
     ]
    }
   ],
   "source": [
    "county_dict = dict(zip(names, county_stats))\n",
    "print(county_dict['Tyrone']) # should be the same output as before"
   ]
  },
  {
   "cell_type": "markdown",
   "id": "conceptual-multiple",
   "metadata": {},
   "source": [
    "## handling Exceptions with try ... except\n",
    "\n",
    "Now, let's add information about the percent landcover to the `counties` table. We'll start by using creating a __dict__ that takes the full landcover class name, and shortens it so that it can be used as a column header:"
   ]
  },
  {
   "cell_type": "code",
   "execution_count": 21,
   "id": "educated-nation",
   "metadata": {},
   "outputs": [],
   "source": [
    "short_names = ['broadleaf', 'coniferous', 'arable', 'imp_grass', 'nat_grass', \n",
    "               'mountain', 'saltwater', 'freshwater', 'coastal', 'built_up']\n",
    "short_dict = dict(zip(landcover_names.values(), short_names)) # use dict and zip with the full names"
   ]
  },
  {
   "cell_type": "markdown",
   "id": "simple-ultimate",
   "metadata": {},
   "source": [
    "Now, we can use this to populate the data table with new columns for each landcover class:"
   ]
  },
  {
   "cell_type": "code",
   "execution_count": 22,
   "id": "acceptable-antibody",
   "metadata": {},
   "outputs": [
    {
     "ename": "KeyError",
     "evalue": "'Saltwater'",
     "output_type": "error",
     "traceback": [
      "\u001b[1;31m---------------------------------------------------------------------------\u001b[0m",
      "\u001b[1;31mKeyError\u001b[0m                                  Traceback (most recent call last)",
      "Cell \u001b[1;32mIn[22], line 4\u001b[0m\n\u001b[0;32m      2\u001b[0m county_data \u001b[38;5;241m=\u001b[39m county_dict[row[\u001b[38;5;124m'\u001b[39m\u001b[38;5;124mCountyName\u001b[39m\u001b[38;5;124m'\u001b[39m]\u001b[38;5;241m.\u001b[39mtitle()] \u001b[38;5;66;03m# get the landcover data for this county\u001b[39;00m\n\u001b[0;32m      3\u001b[0m \u001b[38;5;28;01mfor\u001b[39;00m name \u001b[38;5;129;01min\u001b[39;00m landcover_names\u001b[38;5;241m.\u001b[39mvalues(): \u001b[38;5;66;03m# iterate over each of the landcover class names       \u001b[39;00m\n\u001b[1;32m----> 4\u001b[0m     counties\u001b[38;5;241m.\u001b[39mloc[ind, short_dict[name]] \u001b[38;5;241m=\u001b[39m \u001b[43mcounty_data\u001b[49m\u001b[43m[\u001b[49m\u001b[43mname\u001b[49m\u001b[43m]\u001b[49m \u001b[38;5;66;03m# add the landcover count to a new column\u001b[39;00m\n",
      "\u001b[1;31mKeyError\u001b[0m: 'Saltwater'"
     ]
    }
   ],
   "source": [
    "for ind, row in counties.iterrows(): # use iterrows to iterate over the rows of the table\n",
    "    county_data = county_dict[row['CountyName'].title()] # get the landcover data for this county\n",
    "    for name in landcover_names.values(): # iterate over each of the landcover class names       \n",
    "        counties.loc[ind, short_dict[name]] = county_data[name] # add the landcover count to a new column"
   ]
  },
  {
   "cell_type": "markdown",
   "id": "a2bfa704-83de-430a-8739-6ac5c4b3a1a3",
   "metadata": {},
   "source": [
    "What happened here? \n",
    "\n",
    "From the error message above, we can see that there is no entry for `Saltwater` in the data for this county (Tyrone): "
   ]
  },
  {
   "cell_type": "code",
   "execution_count": 23,
   "id": "20b1b9b1-bae2-4131-9d2b-3bb2e6aa5c1d",
   "metadata": {},
   "outputs": [
    {
     "name": "stdout",
     "output_type": "stream",
     "text": [
      "Tyrone\n",
      "False\n"
     ]
    }
   ],
   "source": [
    "print(row['CountyName'].title()) # show the county name that caused the error\n",
    "print('Saltwater' in county_dict[row['CountyName'].title()].keys()) # is Saltwater a valid key for this county?"
   ]
  },
  {
   "cell_type": "markdown",
   "id": "2d39ed73-622a-4d70-a3c2-7c8088e25d6a",
   "metadata": {},
   "source": [
    "Because `Saltwater` is not in the list of **key** values for this **dict**, when we try to use `Saltwater` as a **key** in the `county_data` dictionary, it raises a **KeyError**. \n",
    "\n",
    "The problem that we have here is that we don't necessarily have all landcover classes represented in every county. We shouldn't expect to, either - County Tyrone is an inland county, so it makes sense that it wouldn't have any saltwater areas.\n",
    "\n",
    "One way to handle this could be to insert an **if**/**else** block to check that the landcover class is present in the **dict** before trying to access it. This would check whether the value of `name` is a **key** of `county_data` - if it isn't, then it will add a value of 0 to the table for that column:"
   ]
  },
  {
   "cell_type": "code",
   "execution_count": 24,
   "id": "7fb6cd18-f75b-4261-98a5-0c886ba60c0a",
   "metadata": {},
   "outputs": [],
   "source": [
    "for ind, row in counties.iterrows(): # use iterrows to iterate over the rows of the table\n",
    "    county_data = county_dict[row['CountyName'].title()] # get the landcover data for this county\n",
    "    for name in landcover_names.values(): # iterate over each of the landcover class names\n",
    "        if name in county_data.keys(): # check that name is a key of county_data\n",
    "            counties.loc[ind, short_dict[name]] = county_data[name] # add the landcover count to a new column\n",
    "        else:\n",
    "            counties.loc[ind, short_dict[name]] = 0 # if name is not present, value should be 0."
   ]
  },
  {
   "cell_type": "markdown",
   "id": "median-mailman",
   "metadata": {},
   "source": [
    "Another option is to use a [`try` ... `except`](https://realpython.com/python-exceptions/#the-try-and-except-block-handling-exceptions) block to \"catch\" and handle an exception:\n",
    "\n",
    "```python\n",
    "\n",
    "try:\n",
    "    # run some code\n",
    "except:\n",
    "    # run this if the try block causes an exception\n",
    "```\n",
    "\n",
    "In general, it's [not recommended](https://www.python.org/dev/peps/pep-0008/#programming-recommendations) to just have a bare `except:` clause, as this will make it harder to interrupt a program. In our specific case, we only want the interpreter to ignore `KeyError` exceptions - if there are other problems, we still need to know about those.\n",
    "\n",
    "In our example, the `try` ... `except` block looks like this:"
   ]
  },
  {
   "cell_type": "code",
   "execution_count": 25,
   "id": "018598b5",
   "metadata": {},
   "outputs": [
    {
     "data": {
      "text/html": [
       "<div>\n",
       "<style scoped>\n",
       "    .dataframe tbody tr th:only-of-type {\n",
       "        vertical-align: middle;\n",
       "    }\n",
       "\n",
       "    .dataframe tbody tr th {\n",
       "        vertical-align: top;\n",
       "    }\n",
       "\n",
       "    .dataframe thead th {\n",
       "        text-align: right;\n",
       "    }\n",
       "</style>\n",
       "<table border=\"1\" class=\"dataframe\">\n",
       "  <thead>\n",
       "    <tr style=\"text-align: right;\">\n",
       "      <th></th>\n",
       "      <th>COUNTY_ID</th>\n",
       "      <th>CountyName</th>\n",
       "      <th>Area_SqKM</th>\n",
       "      <th>OBJECTID</th>\n",
       "      <th>geometry</th>\n",
       "      <th>broadleaf</th>\n",
       "      <th>coniferous</th>\n",
       "      <th>arable</th>\n",
       "      <th>imp_grass</th>\n",
       "      <th>nat_grass</th>\n",
       "      <th>mountain</th>\n",
       "      <th>saltwater</th>\n",
       "      <th>freshwater</th>\n",
       "      <th>coastal</th>\n",
       "      <th>built_up</th>\n",
       "    </tr>\n",
       "  </thead>\n",
       "  <tbody>\n",
       "    <tr>\n",
       "      <th>0</th>\n",
       "      <td>6</td>\n",
       "      <td>TYRONE</td>\n",
       "      <td>3265.796622</td>\n",
       "      <td>1</td>\n",
       "      <td>POLYGON ((603659.943 6089544.483, 603665.021 6...</td>\n",
       "      <td>7221.0</td>\n",
       "      <td>20069.0</td>\n",
       "      <td>6178.0</td>\n",
       "      <td>204078.0</td>\n",
       "      <td>17176.0</td>\n",
       "      <td>54540.0</td>\n",
       "      <td>0.0</td>\n",
       "      <td>11464.0</td>\n",
       "      <td>1.0</td>\n",
       "      <td>5649.0</td>\n",
       "    </tr>\n",
       "    <tr>\n",
       "      <th>1</th>\n",
       "      <td>1</td>\n",
       "      <td>ANTRIM</td>\n",
       "      <td>3097.847750</td>\n",
       "      <td>2</td>\n",
       "      <td>MULTIPOLYGON (((697048.708 6049234.68, 697047....</td>\n",
       "      <td>6874.0</td>\n",
       "      <td>12401.0</td>\n",
       "      <td>12766.0</td>\n",
       "      <td>173631.0</td>\n",
       "      <td>15442.0</td>\n",
       "      <td>47318.0</td>\n",
       "      <td>168.0</td>\n",
       "      <td>20710.0</td>\n",
       "      <td>1603.0</td>\n",
       "      <td>18744.0</td>\n",
       "    </tr>\n",
       "    <tr>\n",
       "      <th>2</th>\n",
       "      <td>2</td>\n",
       "      <td>ARMAGH</td>\n",
       "      <td>1327.228438</td>\n",
       "      <td>3</td>\n",
       "      <td>POLYGON ((671301.846 6043407.459, 671437.484 6...</td>\n",
       "      <td>3542.0</td>\n",
       "      <td>2046.0</td>\n",
       "      <td>7470.0</td>\n",
       "      <td>96084.0</td>\n",
       "      <td>5710.0</td>\n",
       "      <td>5728.0</td>\n",
       "      <td>21.0</td>\n",
       "      <td>6726.0</td>\n",
       "      <td>8.0</td>\n",
       "      <td>5345.0</td>\n",
       "    </tr>\n",
       "    <tr>\n",
       "      <th>3</th>\n",
       "      <td>4</td>\n",
       "      <td>FERMANAGH</td>\n",
       "      <td>1850.832538</td>\n",
       "      <td>4</td>\n",
       "      <td>POLYGON ((584348.238 6051633.297, 584365.882 6...</td>\n",
       "      <td>8613.0</td>\n",
       "      <td>23445.0</td>\n",
       "      <td>454.0</td>\n",
       "      <td>105116.0</td>\n",
       "      <td>8536.0</td>\n",
       "      <td>19465.0</td>\n",
       "      <td>0.0</td>\n",
       "      <td>17163.0</td>\n",
       "      <td>0.0</td>\n",
       "      <td>2161.0</td>\n",
       "    </tr>\n",
       "    <tr>\n",
       "      <th>4</th>\n",
       "      <td>5</td>\n",
       "      <td>LONDONDERRY</td>\n",
       "      <td>2118.316853</td>\n",
       "      <td>5</td>\n",
       "      <td>POLYGON ((648345.446 6119413.614, 648346.157 6...</td>\n",
       "      <td>5876.0</td>\n",
       "      <td>11739.0</td>\n",
       "      <td>16627.0</td>\n",
       "      <td>113674.0</td>\n",
       "      <td>17537.0</td>\n",
       "      <td>33491.0</td>\n",
       "      <td>346.0</td>\n",
       "      <td>2922.0</td>\n",
       "      <td>1373.0</td>\n",
       "      <td>8138.0</td>\n",
       "    </tr>\n",
       "    <tr>\n",
       "      <th>5</th>\n",
       "      <td>3</td>\n",
       "      <td>DOWN</td>\n",
       "      <td>2491.238606</td>\n",
       "      <td>6</td>\n",
       "      <td>MULTIPOLYGON (((691197.83 5992737.953, 691194....</td>\n",
       "      <td>7933.0</td>\n",
       "      <td>3406.0</td>\n",
       "      <td>46974.0</td>\n",
       "      <td>140440.0</td>\n",
       "      <td>11337.0</td>\n",
       "      <td>18795.0</td>\n",
       "      <td>190.0</td>\n",
       "      <td>1326.0</td>\n",
       "      <td>2446.0</td>\n",
       "      <td>16185.0</td>\n",
       "    </tr>\n",
       "  </tbody>\n",
       "</table>\n",
       "</div>"
      ],
      "text/plain": [
       "   COUNTY_ID   CountyName    Area_SqKM  OBJECTID  \\\n",
       "0          6       TYRONE  3265.796622         1   \n",
       "1          1       ANTRIM  3097.847750         2   \n",
       "2          2       ARMAGH  1327.228438         3   \n",
       "3          4    FERMANAGH  1850.832538         4   \n",
       "4          5  LONDONDERRY  2118.316853         5   \n",
       "5          3         DOWN  2491.238606         6   \n",
       "\n",
       "                                            geometry  broadleaf  coniferous  \\\n",
       "0  POLYGON ((603659.943 6089544.483, 603665.021 6...     7221.0     20069.0   \n",
       "1  MULTIPOLYGON (((697048.708 6049234.68, 697047....     6874.0     12401.0   \n",
       "2  POLYGON ((671301.846 6043407.459, 671437.484 6...     3542.0      2046.0   \n",
       "3  POLYGON ((584348.238 6051633.297, 584365.882 6...     8613.0     23445.0   \n",
       "4  POLYGON ((648345.446 6119413.614, 648346.157 6...     5876.0     11739.0   \n",
       "5  MULTIPOLYGON (((691197.83 5992737.953, 691194....     7933.0      3406.0   \n",
       "\n",
       "    arable  imp_grass  nat_grass  mountain  saltwater  freshwater  coastal  \\\n",
       "0   6178.0   204078.0    17176.0   54540.0        0.0     11464.0      1.0   \n",
       "1  12766.0   173631.0    15442.0   47318.0      168.0     20710.0   1603.0   \n",
       "2   7470.0    96084.0     5710.0    5728.0       21.0      6726.0      8.0   \n",
       "3    454.0   105116.0     8536.0   19465.0        0.0     17163.0      0.0   \n",
       "4  16627.0   113674.0    17537.0   33491.0      346.0      2922.0   1373.0   \n",
       "5  46974.0   140440.0    11337.0   18795.0      190.0      1326.0   2446.0   \n",
       "\n",
       "   built_up  \n",
       "0    5649.0  \n",
       "1   18744.0  \n",
       "2    5345.0  \n",
       "3    2161.0  \n",
       "4    8138.0  \n",
       "5   16185.0  "
      ]
     },
     "execution_count": 25,
     "metadata": {},
     "output_type": "execute_result"
    }
   ],
   "source": [
    "for ind, row in counties.iterrows(): # use iterrows to iterate over the rows of the table\n",
    "    county_data = county_dict[row['CountyName'].title()] # get the landcover data for this county\n",
    "    for name in landcover_names.values(): # iterate over each of the landcover class names\n",
    "        try:\n",
    "            counties.loc[ind, short_dict[name]] = county_data[name] # add the landcover count to a new column\n",
    "        except KeyError: # we can ignore KeyErrors, because this just means the landcover class has a value of 0\n",
    "            counties.loc[ind, short_dict[name]] = 0 # if name is not present, value should be 0.\n",
    "\n",
    "counties # just to show the table in the output below"
   ]
  },
  {
   "cell_type": "markdown",
   "id": "b9ca9c41",
   "metadata": {},
   "source": [
    "Now, we can see that the table has had an additional 10 columns added (one for each landcover class), with each column being filled with the number of pixels in each county that are classified as that landcover class.\n",
    "\n",
    "As one final step, let's update the table so that the value corresponds to the percentage of each county's area covered by each landcover class:"
   ]
  },
  {
   "cell_type": "code",
   "execution_count": 26,
   "id": "aging-colors",
   "metadata": {},
   "outputs": [
    {
     "data": {
      "text/html": [
       "<div>\n",
       "<style scoped>\n",
       "    .dataframe tbody tr th:only-of-type {\n",
       "        vertical-align: middle;\n",
       "    }\n",
       "\n",
       "    .dataframe tbody tr th {\n",
       "        vertical-align: top;\n",
       "    }\n",
       "\n",
       "    .dataframe thead th {\n",
       "        text-align: right;\n",
       "    }\n",
       "</style>\n",
       "<table border=\"1\" class=\"dataframe\">\n",
       "  <thead>\n",
       "    <tr style=\"text-align: right;\">\n",
       "      <th></th>\n",
       "      <th>COUNTY_ID</th>\n",
       "      <th>CountyName</th>\n",
       "      <th>Area_SqKM</th>\n",
       "      <th>OBJECTID</th>\n",
       "      <th>geometry</th>\n",
       "      <th>broadleaf</th>\n",
       "      <th>coniferous</th>\n",
       "      <th>arable</th>\n",
       "      <th>imp_grass</th>\n",
       "      <th>nat_grass</th>\n",
       "      <th>mountain</th>\n",
       "      <th>saltwater</th>\n",
       "      <th>freshwater</th>\n",
       "      <th>coastal</th>\n",
       "      <th>built_up</th>\n",
       "    </tr>\n",
       "  </thead>\n",
       "  <tbody>\n",
       "    <tr>\n",
       "      <th>0</th>\n",
       "      <td>6</td>\n",
       "      <td>TYRONE</td>\n",
       "      <td>3265.796622</td>\n",
       "      <td>1</td>\n",
       "      <td>POLYGON ((603659.943 6089544.483, 603665.021 6...</td>\n",
       "      <td>2.212479</td>\n",
       "      <td>6.149043</td>\n",
       "      <td>1.892909</td>\n",
       "      <td>62.528495</td>\n",
       "      <td>5.262642</td>\n",
       "      <td>16.710788</td>\n",
       "      <td>0.000000</td>\n",
       "      <td>3.512513</td>\n",
       "      <td>0.000306</td>\n",
       "      <td>1.730826</td>\n",
       "    </tr>\n",
       "    <tr>\n",
       "      <th>1</th>\n",
       "      <td>1</td>\n",
       "      <td>ANTRIM</td>\n",
       "      <td>3097.847750</td>\n",
       "      <td>2</td>\n",
       "      <td>MULTIPOLYGON (((697048.708 6049234.68, 697047....</td>\n",
       "      <td>2.219876</td>\n",
       "      <td>4.004754</td>\n",
       "      <td>4.122626</td>\n",
       "      <td>56.072041</td>\n",
       "      <td>4.986808</td>\n",
       "      <td>15.280778</td>\n",
       "      <td>0.054254</td>\n",
       "      <td>6.688045</td>\n",
       "      <td>0.517670</td>\n",
       "      <td>6.053149</td>\n",
       "    </tr>\n",
       "    <tr>\n",
       "      <th>2</th>\n",
       "      <td>2</td>\n",
       "      <td>ARMAGH</td>\n",
       "      <td>1327.228438</td>\n",
       "      <td>3</td>\n",
       "      <td>POLYGON ((671301.846 6043407.459, 671437.484 6...</td>\n",
       "      <td>2.669581</td>\n",
       "      <td>1.542056</td>\n",
       "      <td>5.630087</td>\n",
       "      <td>72.417847</td>\n",
       "      <td>4.303588</td>\n",
       "      <td>4.317154</td>\n",
       "      <td>0.015828</td>\n",
       "      <td>5.069340</td>\n",
       "      <td>0.006030</td>\n",
       "      <td>4.028490</td>\n",
       "    </tr>\n",
       "    <tr>\n",
       "      <th>3</th>\n",
       "      <td>4</td>\n",
       "      <td>FERMANAGH</td>\n",
       "      <td>1850.832538</td>\n",
       "      <td>4</td>\n",
       "      <td>POLYGON ((584348.238 6051633.297, 584365.882 6...</td>\n",
       "      <td>4.656859</td>\n",
       "      <td>12.676193</td>\n",
       "      <td>0.245468</td>\n",
       "      <td>56.833898</td>\n",
       "      <td>4.615227</td>\n",
       "      <td>10.524295</td>\n",
       "      <td>0.000000</td>\n",
       "      <td>9.279655</td>\n",
       "      <td>0.000000</td>\n",
       "      <td>1.168405</td>\n",
       "    </tr>\n",
       "    <tr>\n",
       "      <th>4</th>\n",
       "      <td>5</td>\n",
       "      <td>LONDONDERRY</td>\n",
       "      <td>2118.316853</td>\n",
       "      <td>5</td>\n",
       "      <td>POLYGON ((648345.446 6119413.614, 648346.157 6...</td>\n",
       "      <td>2.775324</td>\n",
       "      <td>5.544509</td>\n",
       "      <td>7.853186</td>\n",
       "      <td>53.689963</td>\n",
       "      <td>8.282992</td>\n",
       "      <td>15.818310</td>\n",
       "      <td>0.163421</td>\n",
       "      <td>1.380105</td>\n",
       "      <td>0.648489</td>\n",
       "      <td>3.843701</td>\n",
       "    </tr>\n",
       "    <tr>\n",
       "      <th>5</th>\n",
       "      <td>3</td>\n",
       "      <td>DOWN</td>\n",
       "      <td>2491.238606</td>\n",
       "      <td>6</td>\n",
       "      <td>MULTIPOLYGON (((691197.83 5992737.953, 691194....</td>\n",
       "      <td>3.185534</td>\n",
       "      <td>1.367696</td>\n",
       "      <td>18.862636</td>\n",
       "      <td>56.394359</td>\n",
       "      <td>4.552427</td>\n",
       "      <td>7.547223</td>\n",
       "      <td>0.076295</td>\n",
       "      <td>0.532462</td>\n",
       "      <td>0.982203</td>\n",
       "      <td>6.499165</td>\n",
       "    </tr>\n",
       "  </tbody>\n",
       "</table>\n",
       "</div>"
      ],
      "text/plain": [
       "   COUNTY_ID   CountyName    Area_SqKM  OBJECTID  \\\n",
       "0          6       TYRONE  3265.796622         1   \n",
       "1          1       ANTRIM  3097.847750         2   \n",
       "2          2       ARMAGH  1327.228438         3   \n",
       "3          4    FERMANAGH  1850.832538         4   \n",
       "4          5  LONDONDERRY  2118.316853         5   \n",
       "5          3         DOWN  2491.238606         6   \n",
       "\n",
       "                                            geometry  broadleaf  coniferous  \\\n",
       "0  POLYGON ((603659.943 6089544.483, 603665.021 6...   2.212479    6.149043   \n",
       "1  MULTIPOLYGON (((697048.708 6049234.68, 697047....   2.219876    4.004754   \n",
       "2  POLYGON ((671301.846 6043407.459, 671437.484 6...   2.669581    1.542056   \n",
       "3  POLYGON ((584348.238 6051633.297, 584365.882 6...   4.656859   12.676193   \n",
       "4  POLYGON ((648345.446 6119413.614, 648346.157 6...   2.775324    5.544509   \n",
       "5  MULTIPOLYGON (((691197.83 5992737.953, 691194....   3.185534    1.367696   \n",
       "\n",
       "      arable  imp_grass  nat_grass   mountain  saltwater  freshwater  \\\n",
       "0   1.892909  62.528495   5.262642  16.710788   0.000000    3.512513   \n",
       "1   4.122626  56.072041   4.986808  15.280778   0.054254    6.688045   \n",
       "2   5.630087  72.417847   4.303588   4.317154   0.015828    5.069340   \n",
       "3   0.245468  56.833898   4.615227  10.524295   0.000000    9.279655   \n",
       "4   7.853186  53.689963   8.282992  15.818310   0.163421    1.380105   \n",
       "5  18.862636  56.394359   4.552427   7.547223   0.076295    0.532462   \n",
       "\n",
       "    coastal  built_up  \n",
       "0  0.000306  1.730826  \n",
       "1  0.517670  6.053149  \n",
       "2  0.006030  4.028490  \n",
       "3  0.000000  1.168405  \n",
       "4  0.648489  3.843701  \n",
       "5  0.982203  6.499165  "
      ]
     },
     "execution_count": 26,
     "metadata": {},
     "output_type": "execute_result"
    }
   ],
   "source": [
    "for ind, row in counties.iterrows(): # iterate over the rows of the table\n",
    "    counties.loc[ind, short_names] = 100 * row[short_names] / row[short_names].sum()\n",
    "counties # just to show the table in the output below"
   ]
  },
  {
   "cell_type": "markdown",
   "id": "rubber-factory",
   "metadata": {},
   "source": [
    "In the above, you can see that we've _indexed_ the table using the list of column names `short_name`, which ensures that we only select the columns we're interested in.\n",
    "\n",
    "<span style=\"color:#009fdf;font-size:1.1em;font-weight:bold\">Looking at the table above, what landcover class dominates each county? Does this make sense, given what you know about Northern Ireland?</span>\n",
    "\n",
    "As a final exercise, modify the cell below so that each cell represents the total area (in square km) covered by each landcover class, rather than the number of pixels or the percent area of each county. \n",
    "\n",
    "As a small hint, you should only need to change a single line:"
   ]
  },
  {
   "cell_type": "code",
   "execution_count": 27,
   "id": "dress-division",
   "metadata": {},
   "outputs": [
    {
     "data": {
      "text/html": [
       "<div>\n",
       "<style scoped>\n",
       "    .dataframe tbody tr th:only-of-type {\n",
       "        vertical-align: middle;\n",
       "    }\n",
       "\n",
       "    .dataframe tbody tr th {\n",
       "        vertical-align: top;\n",
       "    }\n",
       "\n",
       "    .dataframe thead th {\n",
       "        text-align: right;\n",
       "    }\n",
       "</style>\n",
       "<table border=\"1\" class=\"dataframe\">\n",
       "  <thead>\n",
       "    <tr style=\"text-align: right;\">\n",
       "      <th></th>\n",
       "      <th>COUNTY_ID</th>\n",
       "      <th>CountyName</th>\n",
       "      <th>Area_SqKM</th>\n",
       "      <th>OBJECTID</th>\n",
       "      <th>geometry</th>\n",
       "      <th>broadleaf</th>\n",
       "      <th>coniferous</th>\n",
       "      <th>arable</th>\n",
       "      <th>imp_grass</th>\n",
       "      <th>nat_grass</th>\n",
       "      <th>mountain</th>\n",
       "      <th>saltwater</th>\n",
       "      <th>freshwater</th>\n",
       "      <th>coastal</th>\n",
       "      <th>built_up</th>\n",
       "    </tr>\n",
       "  </thead>\n",
       "  <tbody>\n",
       "    <tr>\n",
       "      <th>0</th>\n",
       "      <td>6</td>\n",
       "      <td>TYRONE</td>\n",
       "      <td>3265.796622</td>\n",
       "      <td>1</td>\n",
       "      <td>POLYGON ((603659.943 6089544.483, 603665.021 6...</td>\n",
       "      <td>72.21</td>\n",
       "      <td>200.69</td>\n",
       "      <td>61.78</td>\n",
       "      <td>2040.78</td>\n",
       "      <td>171.76</td>\n",
       "      <td>545.40</td>\n",
       "      <td>0.00</td>\n",
       "      <td>114.64</td>\n",
       "      <td>0.01</td>\n",
       "      <td>56.49</td>\n",
       "    </tr>\n",
       "    <tr>\n",
       "      <th>1</th>\n",
       "      <td>1</td>\n",
       "      <td>ANTRIM</td>\n",
       "      <td>3097.847750</td>\n",
       "      <td>2</td>\n",
       "      <td>MULTIPOLYGON (((697048.708 6049234.68, 697047....</td>\n",
       "      <td>68.74</td>\n",
       "      <td>124.01</td>\n",
       "      <td>127.66</td>\n",
       "      <td>1736.31</td>\n",
       "      <td>154.42</td>\n",
       "      <td>473.18</td>\n",
       "      <td>1.68</td>\n",
       "      <td>207.10</td>\n",
       "      <td>16.03</td>\n",
       "      <td>187.44</td>\n",
       "    </tr>\n",
       "    <tr>\n",
       "      <th>2</th>\n",
       "      <td>2</td>\n",
       "      <td>ARMAGH</td>\n",
       "      <td>1327.228438</td>\n",
       "      <td>3</td>\n",
       "      <td>POLYGON ((671301.846 6043407.459, 671437.484 6...</td>\n",
       "      <td>35.42</td>\n",
       "      <td>20.46</td>\n",
       "      <td>74.70</td>\n",
       "      <td>960.84</td>\n",
       "      <td>57.10</td>\n",
       "      <td>57.28</td>\n",
       "      <td>0.21</td>\n",
       "      <td>67.26</td>\n",
       "      <td>0.08</td>\n",
       "      <td>53.45</td>\n",
       "    </tr>\n",
       "    <tr>\n",
       "      <th>3</th>\n",
       "      <td>4</td>\n",
       "      <td>FERMANAGH</td>\n",
       "      <td>1850.832538</td>\n",
       "      <td>4</td>\n",
       "      <td>POLYGON ((584348.238 6051633.297, 584365.882 6...</td>\n",
       "      <td>86.13</td>\n",
       "      <td>234.45</td>\n",
       "      <td>4.54</td>\n",
       "      <td>1051.16</td>\n",
       "      <td>85.36</td>\n",
       "      <td>194.65</td>\n",
       "      <td>0.00</td>\n",
       "      <td>171.63</td>\n",
       "      <td>0.00</td>\n",
       "      <td>21.61</td>\n",
       "    </tr>\n",
       "    <tr>\n",
       "      <th>4</th>\n",
       "      <td>5</td>\n",
       "      <td>LONDONDERRY</td>\n",
       "      <td>2118.316853</td>\n",
       "      <td>5</td>\n",
       "      <td>POLYGON ((648345.446 6119413.614, 648346.157 6...</td>\n",
       "      <td>58.76</td>\n",
       "      <td>117.39</td>\n",
       "      <td>166.27</td>\n",
       "      <td>1136.74</td>\n",
       "      <td>175.37</td>\n",
       "      <td>334.91</td>\n",
       "      <td>3.46</td>\n",
       "      <td>29.22</td>\n",
       "      <td>13.73</td>\n",
       "      <td>81.38</td>\n",
       "    </tr>\n",
       "    <tr>\n",
       "      <th>5</th>\n",
       "      <td>3</td>\n",
       "      <td>DOWN</td>\n",
       "      <td>2491.238606</td>\n",
       "      <td>6</td>\n",
       "      <td>MULTIPOLYGON (((691197.83 5992737.953, 691194....</td>\n",
       "      <td>79.33</td>\n",
       "      <td>34.06</td>\n",
       "      <td>469.74</td>\n",
       "      <td>1404.40</td>\n",
       "      <td>113.37</td>\n",
       "      <td>187.95</td>\n",
       "      <td>1.90</td>\n",
       "      <td>13.26</td>\n",
       "      <td>24.46</td>\n",
       "      <td>161.85</td>\n",
       "    </tr>\n",
       "  </tbody>\n",
       "</table>\n",
       "</div>"
      ],
      "text/plain": [
       "   COUNTY_ID   CountyName    Area_SqKM  OBJECTID  \\\n",
       "0          6       TYRONE  3265.796622         1   \n",
       "1          1       ANTRIM  3097.847750         2   \n",
       "2          2       ARMAGH  1327.228438         3   \n",
       "3          4    FERMANAGH  1850.832538         4   \n",
       "4          5  LONDONDERRY  2118.316853         5   \n",
       "5          3         DOWN  2491.238606         6   \n",
       "\n",
       "                                            geometry  broadleaf  coniferous  \\\n",
       "0  POLYGON ((603659.943 6089544.483, 603665.021 6...      72.21      200.69   \n",
       "1  MULTIPOLYGON (((697048.708 6049234.68, 697047....      68.74      124.01   \n",
       "2  POLYGON ((671301.846 6043407.459, 671437.484 6...      35.42       20.46   \n",
       "3  POLYGON ((584348.238 6051633.297, 584365.882 6...      86.13      234.45   \n",
       "4  POLYGON ((648345.446 6119413.614, 648346.157 6...      58.76      117.39   \n",
       "5  MULTIPOLYGON (((691197.83 5992737.953, 691194....      79.33       34.06   \n",
       "\n",
       "   arable  imp_grass  nat_grass  mountain  saltwater  freshwater  coastal  \\\n",
       "0   61.78    2040.78     171.76    545.40       0.00      114.64     0.01   \n",
       "1  127.66    1736.31     154.42    473.18       1.68      207.10    16.03   \n",
       "2   74.70     960.84      57.10     57.28       0.21       67.26     0.08   \n",
       "3    4.54    1051.16      85.36    194.65       0.00      171.63     0.00   \n",
       "4  166.27    1136.74     175.37    334.91       3.46       29.22    13.73   \n",
       "5  469.74    1404.40     113.37    187.95       1.90       13.26    24.46   \n",
       "\n",
       "   built_up  \n",
       "0     56.49  \n",
       "1    187.44  \n",
       "2     53.45  \n",
       "3     21.61  \n",
       "4     81.38  \n",
       "5    161.85  "
      ]
     },
     "execution_count": 27,
     "metadata": {},
     "output_type": "execute_result"
    }
   ],
   "source": [
    "for ind, row in counties.iterrows(): # use iterrows to iterate over the rows of the table\n",
    "    county_data = county_dict[row['CountyName'].title()] # get the landcover data for this county\n",
    "    for name in landcover_names.values(): # iterate over each of the landcover class names\n",
    "        try:\n",
    "            county_area = county_data[name] * 0.01\n",
    "            counties.loc[ind, short_dict[name]] = county_area # add the landcover count to a new column\n",
    "        except KeyError:\n",
    "            counties.loc[ind, short_dict[name]] = 0 # if name is not present, value should be 0.\n",
    "\n",
    "counties # just to show the table in the output below"
   ]
  },
  {
   "cell_type": "markdown",
   "id": "secondary-appeal",
   "metadata": {},
   "source": [
    "## rasterizing vector data using rasterio\n",
    "`rasterstats` provides a nice tool for quickly and easily extracting zonal statistics from a raster using vector data. Sometimes, though, we might want to *rasterize* our vector data - for example, in order to mask our raster data, or to be able to select pixels. To do this, we can use the `rasterio.features` module ([documentation](https://rasterio.readthedocs.io/en/latest/api/rasterio.features.html)):"
   ]
  },
  {
   "cell_type": "code",
   "execution_count": 28,
   "id": "descending-burden",
   "metadata": {},
   "outputs": [],
   "source": [
    "import rasterio.features # we have imported rasterio as rio, so this will be rio.features (and rasterio.features)"
   ]
  },
  {
   "cell_type": "markdown",
   "id": "94a6847a-d78f-4e64-8e25-07d934feb657",
   "metadata": {},
   "source": [
    "`rasterio.features`has a number of different methods, but the one we are interested in here is `rasterize()` ([documentation](https://rasterio.readthedocs.io/en/latest/api/rasterio.features.html#rasterio.features.rasterize)):"
   ]
  },
  {
   "cell_type": "code",
   "execution_count": 29,
   "id": "fa65ede8-9cd2-465b-8041-f83e63e893da",
   "metadata": {},
   "outputs": [
    {
     "name": "stdout",
     "output_type": "stream",
     "text": [
      "Help on function rasterize in module rasterio.features:\n",
      "\n",
      "rasterize(\n",
      "    shapes,\n",
      "    out_shape=None,\n",
      "    fill=0,\n",
      "    nodata=None,\n",
      "    masked=False,\n",
      "    out=None,\n",
      "    transform=Affine(1.0, 0.0, 0.0,\n",
      "       0.0, 1.0, 0.0),\n",
      "    all_touched=False,\n",
      "    merge_alg=<MergeAlg.replace: 'REPLACE'>,\n",
      "    default_value=1,\n",
      "    dtype=None,\n",
      "    skip_invalid=True,\n",
      "    dst_path=None,\n",
      "    dst_kwds=None\n",
      ")\n",
      "    Return an image array with input geometries burned in.\n",
      "\n",
      "    Warnings will be raised for any invalid or empty geometries, and\n",
      "    an exception will be raised if there are no valid shapes\n",
      "    to rasterize.\n",
      "\n",
      "    Parameters\n",
      "    ----------\n",
      "    shapes : iterable of (`geometry`, `value`) pairs or geometries\n",
      "        The `geometry` can either be an object that implements the geo\n",
      "        interface or GeoJSON-like object. If no `value` is provided\n",
      "        the `default_value` will be used. If `value` is `None` the\n",
      "        `fill` value will be used.\n",
      "    out_shape : tuple or list with 2 integers\n",
      "        Shape of output :class:`numpy.ndarray`.\n",
      "    fill : int or float, optional\n",
      "        Used as fill value for all areas not covered by input\n",
      "        geometries.\n",
      "    nodata: float, optional\n",
      "        nodata value to use in output file or masked array.\n",
      "    masked: bool, optional. Default: False.\n",
      "        If True, return a masked array. Note: nodata is always set in\n",
      "        the case of file output.\n",
      "    out : numpy.ndarray, optional\n",
      "        Array in which to store results. If not provided, out_shape\n",
      "        and dtype are required.\n",
      "    transform : Affine transformation object, optional\n",
      "        Transformation from pixel coordinates of `source` to the\n",
      "        coordinate system of the input `shapes`. See the `transform`\n",
      "        property of dataset objects.\n",
      "    all_touched : boolean, optional\n",
      "        If True, all pixels touched by geometries will be burned in.  If\n",
      "        false, only pixels whose center is within the polygon or that\n",
      "        are selected by Bresenham's line algorithm will be burned in.\n",
      "    merge_alg : MergeAlg, optional\n",
      "        Merge algorithm to use. One of:\n",
      "            MergeAlg.replace (default):\n",
      "                the new value will overwrite the existing value.\n",
      "            MergeAlg.add:\n",
      "                the new value will be added to the existing raster.\n",
      "    default_value : int or float, optional\n",
      "        Used as value for all geometries, if not provided in `shapes`.\n",
      "    dtype : rasterio or numpy.dtype, optional\n",
      "        Used as data type for results, if `out` is not provided.\n",
      "    skip_invalid : bool, optional\n",
      "        If True (default), invalid shapes will be skipped. If False,\n",
      "        ValueError will be raised.\n",
      "    dst_path : str or PathLike, optional\n",
      "        Path of output dataset\n",
      "    dst_kwds : dict, optional\n",
      "        Dictionary of creation options and other parameters that will be\n",
      "        overlaid on the profile of the output dataset.\n",
      "\n",
      "    Returns\n",
      "    -------\n",
      "    numpy.ndarray :\n",
      "        If `out` was not None then `out` is returned, it will have been\n",
      "        modified in-place. If `out` was None, this will be a new array.\n",
      "\n",
      "    Notes\n",
      "    -----\n",
      "    Valid data types for `fill`, `default_value`, `out`, `dtype` and\n",
      "    shape values are \"int16\", \"int32\", \"uint8\", \"uint16\", \"uint32\",\n",
      "    \"float32\", and \"float64\".\n",
      "\n",
      "    This function requires significant memory resources. The shapes\n",
      "    iterator will be materialized to a Python list and another C copy of\n",
      "    that list will be made. The `out` array will be copied and\n",
      "    additional temporary raster memory equal to 2x the smaller of `out`\n",
      "    data or GDAL's max cache size (controlled by GDAL_CACHEMAX, default\n",
      "    is 5% of the computer's physical memory) is required.\n",
      "\n",
      "    If GDAL max cache size is smaller than the output data, the array of\n",
      "    shapes will be iterated multiple times. Performance is thus a linear\n",
      "    function of buffer size. For maximum speed, ensure that\n",
      "    GDAL_CACHEMAX is larger than the size of `out` or `out_shape`.\n",
      "\n"
     ]
    }
   ],
   "source": [
    "help(rio.features.rasterize)"
   ]
  },
  {
   "cell_type": "markdown",
   "id": "employed-prisoner",
   "metadata": {},
   "source": [
    "Here, we pass an **iterable** object (**list**, **tuple**, **array**, etc.) that contains (`geometry`, `value`) pairs. `value` determines the pixel values in the output raster that the `geometry` overlaps. If we don't provide a `value`, it takes the `default_value` or the `fill` value.\n",
    "\n",
    "So, to create a rasterized version of our county outlines, we could do the following:"
   ]
  },
  {
   "cell_type": "code",
   "execution_count": 30,
   "id": "51341a0e",
   "metadata": {},
   "outputs": [],
   "source": [
    "shapes = list(zip(counties['geometry'], counties['COUNTY_ID'])) # get a list of geometry, value pairs\n",
    "county_mask = rio.features.rasterize(shapes=shapes, # the list of geometry/value pairs\n",
    "                                     fill=0, # the value to use for cells not covered by any geometry\n",
    "                                     out_shape=landcover.shape, # the shape of the new raster\n",
    "                                     transform=affine_tfm) # the geotransform of the new raster"
   ]
  },
  {
   "cell_type": "markdown",
   "id": "d0f9f85e",
   "metadata": {},
   "source": [
    "The first line uses `zip()` and `list()` to create a list of (__geometry__, __value__) pairs, and the second line actually creates the rasterized array, `county_mask`. \n",
    "\n",
    "Note that in the call to `rasterio.features.rasterize()`, we have to set the output shape (`out_shape`) of the raster, as well as the `transform` - that is, how we go from pixel coordinates in the array to real-world coordinates. \n",
    "\n",
    "Since we want to use this rasterized output with our `landcover`, we use the `shape` of the `landcover` raster, as well as its `transform` (`affine_tfm`) - that way, the outputs will line up as we expect. \n",
    "\n",
    "The cell below will display the `county_mask` raster in a `matplotlib` **Figure**:"
   ]
  },
  {
   "cell_type": "code",
   "execution_count": 31,
   "id": "exempt-catalyst",
   "metadata": {},
   "outputs": [
    {
     "data": {
      "text/plain": [
       "<matplotlib.colorbar.Colorbar at 0x2ab83b201a0>"
      ]
     },
     "execution_count": 31,
     "metadata": {},
     "output_type": "execute_result"
    },
    {
     "data": {
      "image/png": "[encoded data removed]",
      "text/plain": [
       "<Figure size 640x480 with 2 Axes>"
      ]
     },
     "metadata": {},
     "output_type": "display_data"
    }
   ],
   "source": [
    "fig, ax = plt.subplots(1, 1)\n",
    "im = ax.imshow(county_mask) # visualize the rasterized output\n",
    "fig.colorbar(im) # show a colorbar"
   ]
  },
  {
   "cell_type": "markdown",
   "id": "variable-brooks",
   "metadata": {},
   "source": [
    "As you can see, this provides us with an **array** whose values correspond to the `COUNTY_ID` of the county feature at that location (check the `counties` **GeoDataFrame** again to see which county corresponds to which ID). In the next section, we'll see how we can use arrays like this to investigate our data further.\n",
    "\n",
    "## masking and indexing rasters\n",
    "So far, we've seen how we can index an array (or a list, a tuple, ...) using simple indexing (e.g., `myList[0]`) or _slicing_ (e.g., `myList[2:4]`). `numpy` arrays, however, can [actually be indexed](https://numpy.org/doc/stable/reference/arrays.indexing.html) using other arrays of type `bool` (the elements of the array are boolean (`True`/`False`) values) - similar to how we have used conditional statements to select rows from a **GeoDataFrame**. \n",
    "\n",
    "In this section, we'll see how we can use this, along with our rasterized vectors, to select and investigate values from a raster using boolean indexing.\n",
    "\n",
    "To start, we'll open our dem raster - note that this raster has the same georeferencing information as our landcover raster, so we don't have to load all of that information, just the raster band:"
   ]
  },
  {
   "cell_type": "code",
   "execution_count": 32,
   "id": "forward-correspondence",
   "metadata": {},
   "outputs": [],
   "source": [
    "with rio.open('data_files/NI_DEM.tif') as dataset:\n",
    "    dem = dataset.read(1)"
   ]
  },
  {
   "cell_type": "markdown",
   "id": "congressional-airplane",
   "metadata": {},
   "source": [
    "From the previous section, we have an array with values corresponding each of the counties of Northern Ireland. Using `numpy`, we can use this array to select elements of other rasters by creating a _mask_, or a boolean array - that is, an array with values of `True` and `False`. For example, we can create a mask corresponding to County Antrim (`COUNTY_ID=1`) like this:\n",
    "\n",
    "```python\n",
    "county_antrim = county_mask == 1\n",
    "```\n",
    "Let's see what this mask looks like:"
   ]
  },
  {
   "cell_type": "code",
   "execution_count": null,
   "id": "statutory-constant",
   "metadata": {},
   "outputs": [],
   "source": [
    "county_antrim = county_mask == 1\n",
    "\n",
    "fig, ax = plt.subplots(1, 1)\n",
    "ax.imshow(county_antrim) # visualize the rasterized output"
   ]
  },
  {
   "cell_type": "markdown",
   "id": "victorian-albania",
   "metadata": {},
   "source": [
    "We can also combine expressions using functions like [`np.logical_and()`](https://numpy.org/doc/stable/reference/generated/numpy.logical_and.html) or [`np.logical_or()`](https://numpy.org/doc/stable/reference/generated/numpy.logical_or.html). If we wanted to create a mask corresponding to both County Antrim (`county_mask == 3`) and County Down (`county_mask == 1`), we could do the following:"
   ]
  },
  {
   "cell_type": "code",
   "execution_count": null,
   "id": "owned-framing",
   "metadata": {},
   "outputs": [],
   "source": [
    "antrim_and_down = np.logical_or(county_mask == 3, county_mask == 1)\n",
    "\n",
    "fig, ax = plt.subplots(1, 1)\n",
    "ax.imshow(antrim_and_down)"
   ]
  },
  {
   "cell_type": "markdown",
   "id": "correct-soccer",
   "metadata": {},
   "source": [
    "We could then find the mean elevation of these two counties by indexing, or selecting, pixels from `dem` using our mask:"
   ]
  },
  {
   "cell_type": "code",
   "execution_count": 35,
   "id": "greenhouse-approach",
   "metadata": {},
   "outputs": [
    {
     "name": "stdout",
     "output_type": "stream",
     "text": [
      "Mean elevation: 112.61 m\n"
     ]
    }
   ],
   "source": [
    "ad_elevation = dem[antrim_and_down] # index the array using the antrim_and_down mask\n",
    "print('Mean elevation: {:.2f} m'.format(ad_elevation.mean()))"
   ]
  },
  {
   "cell_type": "markdown",
   "id": "departmental-dryer",
   "metadata": {},
   "source": [
    "Now let's say we wanted to investigate the two types of woodland we have, broadleaf and conifer. One thing we might want to look at is the area-elevation distribution of each type. To do this, we first have to select the pixels from the DEM that correspond to the broadleaf woodlands, and all of the pixels corresponding to conifer woodlands:"
   ]
  },
  {
   "cell_type": "code",
   "execution_count": 36,
   "id": "formal-composer",
   "metadata": {},
   "outputs": [],
   "source": [
    "broad_els = dem[landcover == 1] # get all dem values where landcover = 1\n",
    "conif_els = dem[landcover == 2] # get all dem values where landcover = 2"
   ]
  },
  {
   "cell_type": "markdown",
   "id": "corrected-awareness",
   "metadata": {},
   "source": [
    "Now, we have two different arrays, `broad_els` and `conif_els`, each corresponding to the DEM pixel values of each landcover type. We can plot a histogram of these arrays using `plt.hist()` ([documentation](https://matplotlib.org/stable/api/_as_gen/matplotlib.pyplot.hist.html)), but this will only tell us the number of pixels - to work with areas, remember that we have to convert the pixel counts into areas by multiplying with the pixel area (here, 100 m x 100 m).\n",
    "\n",
    "First, though, we can use `numpy.histogram()` ([documentation](https://numpy.org/doc/stable/reference/generated/numpy.histogram.html)), along with an **array** representing our elevation bins, to produce a count of the number of pixels with an elevation that falls within each bin. We'll use `numpy.arange()` ([documentation](https://numpy.org/doc/stable/reference/generated/numpy.arange.html)) to generate an **array** of elevation bins ranging from 0 to 600 meters, spaced by 5 meters:"
   ]
  },
  {
   "cell_type": "code",
   "execution_count": 37,
   "id": "educated-escape",
   "metadata": {},
   "outputs": [],
   "source": [
    "el_bins = np.arange(0, 600, 5) # create an array of values ranging from 0 to 600, spaced by 5.\n",
    "\n",
    "broad_count, _ = np.histogram(broad_els, el_bins) # bin the broadleaf elevations using the elevation bins\n",
    "conif_count, _ = np.histogram(conif_els, el_bins) # bin the conifer elevations using the elevation bins\n",
    "\n",
    "broad_area = broad_count * 100 * 100 # convert the pixel counts to an area by multipling by the pixel size in x, y\n",
    "conif_area = conif_count * 100 * 100"
   ]
  },
  {
   "cell_type": "markdown",
   "id": "signed-hostel",
   "metadata": {},
   "source": [
    "Finally, we can plot the area-elevation distribution for each land cover type using `plt.bar()` ([documentation](https://matplotlib.org/stable/api/_as_gen/matplotlib.pyplot.bar.html)):"
   ]
  },
  {
   "cell_type": "code",
   "execution_count": null,
   "id": "limiting-marshall",
   "metadata": {},
   "outputs": [],
   "source": [
    "fig, ax = plt.subplots(1, 1, figsize=(8, 8)) # create a new figure and axes object\n",
    "\n",
    "# plot the area-elevation distributions using matplotlib.pyplot.bar(), converting from sq m to sq km:\n",
    "_ = ax.bar(el_bins[:-1], broad_area / 1e6, align='edge', width=5, alpha=0.8, label='Broadleaf Woodland')\n",
    "_ = ax.bar(el_bins[:-1], conif_area / 1e6, align='edge', width=5, alpha=0.8, label='Conifer Woodland')\n",
    "\n",
    "ax.set_xlim(0, 550) # set the x limits of the plot\n",
    "ax.set_ylim(0, 30) # set the y limits of the plot\n",
    "\n",
    "ax.set_xlabel('Elevation (m)') # add an x label\n",
    "ax.set_ylabel('Area (km$^2$)') # add a y label\n",
    "ax.legend() # add a legend"
   ]
  },
  {
   "cell_type": "markdown",
   "id": "north-juice",
   "metadata": {},
   "source": [
    "From this, we can clearly see that Conifer woodlands tend to be found at much higher elevations than Broadleaf woodlands, and at a much larger range of elevations (0-500 m, compared to 0-250 m or so). \n",
    "\n",
    "With these samples (`broad_els`, `conif_els`), we can also calculate statistics for each of these samples using `numpy` functions such as `np.mean()` ([documentation](https://numpy.org/doc/stable/reference/generated/numpy.mean.html)), `np.median()` ([documentation](https://numpy.org/doc/stable/reference/generated/numpy.median.html)), `np.std()` ([documentation](https://numpy.org/doc/stable/reference/generated/numpy.std.html)), and so on:"
   ]
  },
  {
   "cell_type": "code",
   "execution_count": 39,
   "id": "d5a0ac14",
   "metadata": {},
   "outputs": [
    {
     "name": "stdout",
     "output_type": "stream",
     "text": [
      "Broadleaf mean elevation: 72.06 m\n",
      "Broadleaf median elevation: 64.00 m\n"
     ]
    }
   ],
   "source": [
    "print('Broadleaf mean elevation: {:.2f} m'.format(np.mean(broad_els)))\n",
    "print('Broadleaf median elevation: {:.2f} m'.format(np.median(broad_els)))"
   ]
  },
  {
   "cell_type": "markdown",
   "id": "42a73bf9",
   "metadata": {},
   "source": [
    "<span style=\"color:#009fdf;font-size:1.1em;font-weight:bold\">Of the 10 different landcover types shown here, which one has the highest mean elevation? What about the largest spread in elevation values?</span>\n",
    "\n",
    "Starting from the initial code in the cell below, create a **DataFrame** of descriptive statistics of the elevation for each landcover type, which will help you answer this question."
   ]
  },
  {
   "cell_type": "code",
   "execution_count": null,
   "id": "universal-absorption",
   "metadata": {},
   "outputs": [],
   "source": [
    "# create a new pandas DataFrame with 6 columns\n",
    "landcover_els = pd.DataFrame(columns=['name', 'mean', 'median', 'std. dev', 'max', 'min', 'range']) \n",
    "\n",
    "landcover_els['name'] = short_names # add the short names to the 'name' column\n",
    "\n",
    "# now, write a loop that will populate the table with descriptive statistics about the elevation\n",
    "# of each landcover class\n",
    "for landcover_value in range(1,11):\n",
    "    mask = (landcover == landcover_value)\n",
    "    masked_elevation = dem[mask]\n",
    "    if masked_elevation.size > 0:\n",
    "        mean_val = np.mean(masked_elevation)\n",
    "        median_val = np.median(masked_elevation)\n",
    "        std_dev_val = np.std(masked_elevation)\n",
    "        max_val = np.max(masked_elevation)\n",
    "        min_val = np.min(masked_elevation)\n",
    "        range_val = max_val - min_val\n",
    "        landcover_els.loc[landcover_value - 1, 'mean'] = mean_val\n",
    "        landcover_els.loc[landcover_value - 1, 'median'] = median_val\n",
    "        landcover_els.loc[landcover_value - 1, 'std. dev'] = std_dev_val\n",
    "        landcover_els.loc[landcover_value - 1, 'max'] = max_val\n",
    "        landcover_els.loc[landcover_value - 1, 'min'] = min_val\n",
    "        landcover_els.loc[landcover_value - 1, 'range'] = range_val\n",
    "    else:\n",
    "        landcover_els.loc[landcover_value - 1, ['mean', 'median', 'std. dev', 'max', 'min', 'range']] = np.nan\n",
    "print(landcover_els)"
   ]
  },
  {
   "cell_type": "markdown",
   "id": "conservative-melissa",
   "metadata": {},
   "source": [
    "## next steps\n",
    "\n",
    "That's all for this exercise. For some additional practice, repeat the last section, but instead of using **NI_DEM.tif**, use the ASTER GDEM mosaic that you downloaded during last week's `earthaccess` practical. Be sure to clip the mosaicked DEM to the same extent as **NI_DEM.tif**. Do you see differences between the results that you get from each DEM?\n",
    "\n",
    "## footnotes\n",
    "[<sup id=\"fn1\">1</sup>](#fn1-back)Rowland, C.S.; Morton, R.D.; Carrasco, L.; McShane, G.; O'Neil, A.W.; Wood, C.M. (2017). Land Cover Map 2015 (25m raster, N. Ireland). NERC Environmental Information Data Centre. [doi:10.5285/47f053a0-e34f-4534-a843-76f0a0998a2f](https://doi.org/10.5285/47f053a0-e34f-4534-a843-76f0a0998a2f)</span>"
   ]
  },
  {
   "cell_type": "code",
   "execution_count": 44,
   "id": "84a73cad-2ecb-462c-9b01-c326c43fff7e",
   "metadata": {},
   "outputs": [],
   "source": [
    "with rio.open('C:/GIS_course/Modules/EGM722/EGM722_clone/egm722/Week4/ASTDTM_Mosaic.tif') as dataset_2:\n",
    "    xmin, ymin, xmax, ymax = dataset_2.bounds \n",
    "    crs = dataset_2.crs\n",
    "    dem2 = dataset_2.read(1)\n",
    "    affine_tfm = dataset_2.transform\n"
   ]
  },
  {
   "cell_type": "code",
   "execution_count": null,
   "id": "7dc80d62-8207-4214-891e-d757c75c2b25",
   "metadata": {},
   "outputs": [],
   "source": []
  }
 ],
 "metadata": {
  "kernelspec": {
   "display_name": "Python 3 (ipykernel)",
   "language": "python",
   "name": "python3"
  },
  "language_info": {
   "codemirror_mode": {
    "name": "ipython",
    "version": 3
   },
   "file_extension": ".py",
   "mimetype": "text/x-python",
   "name": "python",
   "nbconvert_exporter": "python",
   "pygments_lexer": "ipython3",
   "version": "3.13.2"
  }
 },
 "nbformat": 4,
 "nbformat_minor": 5
}
