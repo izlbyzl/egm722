import geopandas as gpd
import matplotlib.pyplot as plt
from mpl_toolkits.axes_grid1 import make_axes_locatable
from cartopy.feature import ShapelyFeature
import cartopy.crs as ccrs
import matplotlib.patches as mpatches


# in this section, write the script to load the data and complete the main part of the analysis.
# try to print the results to the screen using the format method demonstrated in the workbook

# load the necessary data here and transform to a UTM projection
counties = gpd.read_file('Week3/data_files/Counties.shp')
wards = gpd.read_file('Week3/data_files/NI_Wards.shp')
counties_itm = counties.to_crs(epsg=2157)
wards_itm = wards.to_crs(epsg=2157)

# your analysis goes here...
join = gpd.sjoin(counties_itm, wards_itm, how = 'inner', lsuffix = 'left', rsuffix = 'right')
join



