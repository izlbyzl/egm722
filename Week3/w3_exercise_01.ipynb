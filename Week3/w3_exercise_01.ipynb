{
 "cells": [
  {
   "cell_type": "code",
   "execution_count": null,
   "id": "2ef43fe0-db9b-449e-a6b2-9519e56fea74",
   "metadata": {},
   "outputs": [],
   "source": [
    "import geopandas as gpd\n",
    "import matplotlib.pyplot as plt\n",
    "from mpl_toolkits.axes_grid1 import make_axes_locatable\n",
    "from cartopy.feature import ShapelyFeature\n",
    "import cartopy.crs as ccrs\n",
    "import matplotlib.patches as mpatches"
   ]
  },
  {
   "cell_type": "code",
   "execution_count": null,
   "id": "f5468f88-3c20-49bf-ab6b-55b4f13ccb1d",
   "metadata": {},
   "outputs": [],
   "source": [
    "import os\n",
    "print(os.getcwd())"
   ]
  },
  {
   "cell_type": "code",
   "execution_count": null,
   "id": "6d902ae3-305d-4b02-b8eb-b1e2e93f40f6",
   "metadata": {},
   "outputs": [],
   "source": [
    "# in this section, write the script to load the data and complete the main part of the analysis.\n",
    "# try to print the results to the screen using the format method demonstrated in the workbook\n",
    "\n",
    "# load the necessary data here and transform to a UTM projection\n",
    "counties = gpd.read_file('data_files/Counties.shp')\n",
    "wards = gpd.read_file('data_files/NI_Wards.shp')\n",
    "counties = counties.to_crs(epsg=32629)\n",
    "wards = wards.to_crs(epsg=32629)\n",
    "\n",
    "# your analysis goes here...\n",
    "join = gpd.sjoin(counties, wards, how = 'inner', lsuffix = 'left', rsuffix = 'right')\n",
    "join.head()"
   ]
  },
  {
   "cell_type": "code",
   "execution_count": null,
   "id": "a0c922da-9603-4a15-92bf-6671834b5735",
   "metadata": {},
   "outputs": [],
   "source": [
    "county_total_popn = join.groupby('CountyName')['Population'].sum()\n",
    "print(county_total_popn)"
   ]
  },
  {
   "cell_type": "code",
   "execution_count": null,
   "id": "82008e6f-95ae-4a07-b055-8c06f8374dc0",
   "metadata": {},
   "outputs": [],
   "source": [
    "highest_popn_county = county_total_popn.idxmax()\n",
    "county_popn_max = county_total_popn.max()\n",
    "print(f'The county with the highest population is {highest_popn_county}, with a population of {county_popn_max}')"
   ]
  },
  {
   "cell_type": "code",
   "execution_count": null,
   "id": "dbe8f177-530f-481c-bbc4-3c77ab487bfd",
   "metadata": {},
   "outputs": [],
   "source": [
    "lowest_popn_county = county_total_popn.idxmin()\n",
    "county_popn_min = county_total_popn.min()\n",
    "print(f'The county with the lowest population is {lowest_popn_county}, with a population of {county_popn_min}')"
   ]
  },
  {
   "cell_type": "code",
   "execution_count": null,
   "id": "3e163af4-7206-4678-8c97-55e12bbbd340",
   "metadata": {},
   "outputs": [],
   "source": [
    "ward_counties = join.groupby('Ward')['CountyName'].nunique() # group by ward and count number of unique counties associated with\n",
    "wards_multi_county = ward_counties[ward_counties > 1] # filters wards associated with more than 1 county\n",
    "num_wards_multi_county = len(wards_multi_county) # counts number of wards located in more than 1 county\n",
    "wards_multi = join[join['Ward'].isin(wards_multi_county.index)] # get total population of wards\n",
    "popn_multi_county = wards_multi['Population'].sum()\n",
    "ward_popn_max = join.loc[join['Population'].idxmax()]\n",
    "# ward_popn_min = join.loc[join['Population'].idxmin()]\n",
    "\n",
    "print(f'Wards in multiple counties are: {wards_multi_county}')\n",
    "print(f'The number of wards located in more than one county is {num_wards_multi_county}')\n",
    "print(wards_multi)\n",
    "print(f'Ward with the highest population: {ward_popn_max['Ward']} with a population of {ward_popn_max['Population']}')\n",
    "# print(f'Ward with the lowest population: {ward_popn_min['Ward']} with a population of {ward_popn_min['Population']}')"
   ]
  },
  {
   "cell_type": "code",
   "execution_count": null,
   "id": "00c3088c-6539-4020-8bc0-250da83e2807",
   "metadata": {},
   "outputs": [],
   "source": [
    "wards.head()"
   ]
  },
  {
   "cell_type": "code",
   "execution_count": null,
   "id": "7e92efc5-06d9-4aed-a21b-dae9a13d9036",
   "metadata": {},
   "outputs": [],
   "source": [
    "wards['Area_SqKm'] = wards.geometry.area / 1000000 # create area column from m2 to km2\n",
    "wards.head()"
   ]
  },
  {
   "cell_type": "code",
   "execution_count": null,
   "id": "fd46f543-7fc5-48ad-878f-03f6f5ad3c6c",
   "metadata": {},
   "outputs": [],
   "source": [
    "join.head()"
   ]
  },
  {
   "cell_type": "code",
   "execution_count": null,
   "id": "d320dd1f-64a0-4daf-beaf-a73af2518090",
   "metadata": {
    "scrolled": true
   },
   "outputs": [],
   "source": [
    "# repeated using population density instead of population\n",
    "wards['Population_Density'] = wards['Population'] / wards['Area_SqKm']\n",
    "\n",
    "# Find the Ward with the highest population density\n",
    "ward_max_density = wards.loc[wards['Population_Density'].idxmax()]\n",
    "\n",
    "# Find the Ward with the lowest population density\n",
    "ward_min_density = wards.loc[wards['Population_Density'].idxmin()]\n",
    "\n",
    "print(f\"Ward with the highest population density: {ward_max_density['Ward']} with a population density of {ward_max_density['Population_Density']} people per SqKM\")\n",
    "print(f\"Ward with the lowest population density: {ward_min_density['Ward']} with a population density of {ward_min_density['Population_Density']} people per SqKM\")\n",
    "wards.head()"
   ]
  },
  {
   "cell_type": "code",
   "execution_count": null,
   "id": "b34cc7f2-cdad-409c-9816-efc9610a61cf",
   "metadata": {},
   "outputs": [],
   "source": [
    "wards['Population_Density'].hist(bins=10, edgecolor='black')\n",
    "plt.show()"
   ]
  },
  {
   "cell_type": "code",
   "execution_count": null,
   "id": "56ce4490-39b8-49ea-bfe2-393ed7c34ec8",
   "metadata": {},
   "outputs": [],
   "source": [
    "import numpy as np \n",
    "wards['log_pop_density'] = np.log(wards['Population_Density'])\n",
    "wards['log_pop_density'].hist(bins=10, edgecolor='black')\n",
    "plt.show()\n",
    "wards.head()"
   ]
  },
  {
   "cell_type": "code",
   "execution_count": null,
   "id": "507aad17-ae46-4ef6-9a1c-93c74e851de2",
   "metadata": {},
   "outputs": [],
   "source": [
    "popn_dens_max = wards['log_pop_density'].max()\n",
    "popn_dens_min = wards['log_pop_density'].min()\n",
    "print(popn_dens_max)\n",
    "print(popn_dens_min)"
   ]
  },
  {
   "cell_type": "code",
   "execution_count": null,
   "id": "4b8abec9-d956-453c-9d38-2ca692971249",
   "metadata": {},
   "outputs": [],
   "source": [
    "def generate_handles(labels, colors, edge='k', alpha=1):\n",
    "    \"\"\"\n",
    "    Generate matplotlib patch handles to create a legend of each of the features in the map.\n",
    "\n",
    "    Parameters\n",
    "    ----------\n",
    "\n",
    "    labels : list(str)\n",
    "        the text labels of the features to add to the legend\n",
    "\n",
    "    colors : list(matplotlib color)\n",
    "        the colors used for each of the features included in the map.\n",
    "\n",
    "    edge : matplotlib color (default: 'k')\n",
    "        the color to use for the edge of the legend patches.\n",
    "\n",
    "    alpha : float (default: 1.0)\n",
    "        the alpha value to use for the legend patches.\n",
    "\n",
    "    Returns\n",
    "    -------\n",
    "\n",
    "    handles : list(matplotlib.patches.Rectangle)\n",
    "        the list of legend patches to pass to ax.legend()\n",
    "    \"\"\"\n",
    "    lc = len(colors)  # get the length of the color list\n",
    "    handles = [] # create an empty list\n",
    "    for ii in range(len(labels)): # for each label and color pair that we're given, make an empty box to pass to our legend\n",
    "        handles.append(mpatches.Rectangle((0, 0), 1, 1, facecolor=colors[ii % lc], edgecolor=edge, alpha=alpha))\n",
    "    return handles\n",
    "\n",
    "# adapted this question: https://stackoverflow.com/q/32333870\n",
    "# answered by SO user Siyh: https://stackoverflow.com/a/35705477\n",
    "def scale_bar(ax, length=20, location=(0.92, 0.95)):\n",
    "    \"\"\"\n",
    "    Create a scale bar in a cartopy GeoAxes.\n",
    "\n",
    "    Parameters\n",
    "    ----------\n",
    "\n",
    "    ax : cartopy.mpl.geoaxes.GeoAxes\n",
    "        the cartopy GeoAxes to add the scalebar to.\n",
    "    \n",
    "    length : int, float (default 20)\n",
    "        the length of the scalebar, in km\n",
    "    \n",
    "    location : tuple(float, float) (default (0.92, 0.95))\n",
    "        the location of the center right corner of the scalebar, in fractions of the axis.\n",
    "\n",
    "    Returns\n",
    "    -------\n",
    "    ax : cartopy.mpl.geoaxes.GeoAxes\n",
    "        the cartopy GeoAxes object\n",
    "\n",
    "    \"\"\"\n",
    "    x0, x1, y0, y1 = ax.get_extent() # get the current extent of the axis\n",
    "    sbx = x0 + (x1 - x0) * location[0] # get the right x coordinate of the scale bar\n",
    "    sby = y0 + (y1 - y0) * location[1] # get the right y coordinate of the scale bar\n",
    "\n",
    "    ax.plot([sbx, sbx-length*1000], [sby, sby], color='k', linewidth=4, transform=ax.projection) # plot a thick black line\n",
    "    ax.plot([sbx-(length/2)*1000, sbx-length*1000], [sby, sby], color='w', linewidth=2, transform=ax.projection) # plot a white line from 0 to halfway\n",
    "\n",
    "    ax.text(sbx, sby-(length/4)*1000, f\"{length} km\", ha='center', transform=ax.projection, fontsize=6) # add a label at the right side\n",
    "    ax.text(sbx-(length/2)*1000, sby-(length/4)*1000, f\"{int(length/2)} km\", ha='center', transform=ax.projection, fontsize=6) # add a label in the center\n",
    "    ax.text(sbx-length*1000, sby-(length/4)*1000, '0 km', ha='center', transform=ax.projection, fontsize=6) # add a label at the left side\n",
    "\n",
    "    return ax"
   ]
  },
  {
   "cell_type": "code",
   "execution_count": null,
   "id": "e82748b1-aef7-4a0b-9665-1f0fb2d0fb43",
   "metadata": {},
   "outputs": [],
   "source": [
    "ni_utm = ccrs.UTM(29)\n",
    "\n",
    "# create a figure of size 10x10 (representing the page size in inches\n",
    "fig, ax = plt.subplots(1, 1, figsize=(10, 10), subplot_kw=dict(projection=ni_utm))\n",
    "\n",
    "# add gridlines below\n",
    "gridlines = ax.gridlines(draw_labels = True,\n",
    "                         xlocs=[-8, -7.5, -7, -6.5, -6, -5.5],\n",
    "                         ylocs=[54, 54.5, 55, 55.5])\n",
    "gridlines.right_labels = False\n",
    "gridlines.bottom_labels = False\n",
    "\n",
    "\n",
    "# to make a nice colorbar that stays in line with our map, use these lines:\n",
    "divider = make_axes_locatable(ax)\n",
    "cax = divider.append_axes(\"right\", size=\"5%\", pad=0.1, axes_class=plt.Axes)\n",
    "\n",
    "# plot the ward data into our axis, using gdf.plot()\n",
    "ward_plot = wards.plot(column='log_pop_density', ax=ax, vmin=0, vmax=10, cmap='viridis',\n",
    "                       legend=True, cax=cax, legend_kwds={'label': 'Log of Population Density'})\n",
    "\n",
    "# add ward outlines in red using ShapelyFeature\n",
    "ward_outlines = ShapelyFeature(wards['geometry'], ni_utm, edgecolor='r', facecolor='none')\n",
    "ax.add_feature(ward_outlines)\n",
    "\n",
    "ward_handles = generate_handles([''], ['none'], edge='r')\n",
    "\n",
    "# add a legend in the upper left-hand corner\n",
    "ax.legend(ward_handles, ['Ward Boundaries'], fontsize=12, loc='upper left', framealpha=1)\n",
    "\n",
    "# save the figure\n",
    "fig.savefig('sample_map.png', dpi=300, bbox_inches='tight')\n"
   ]
  },
  {
   "cell_type": "code",
   "execution_count": null,
   "id": "0980c283-79a1-4020-a491-a9fcadff5d1e",
   "metadata": {},
   "outputs": [],
   "source": [
    "ax\n"
   ]
  },
  {
   "cell_type": "code",
   "execution_count": null,
   "id": "c6f312ef-43eb-457e-bc52-70a8fa419719",
   "metadata": {},
   "outputs": [],
   "source": [
    "ax.get_extent()"
   ]
  },
  {
   "cell_type": "code",
   "execution_count": null,
   "id": "b436edaf-178e-408d-a88c-de82d34dd2be",
   "metadata": {},
   "outputs": [],
   "source": []
  }
 ],
 "metadata": {
  "kernelspec": {
   "display_name": "Python 3 (ipykernel)",
   "language": "python",
   "name": "python3"
  },
  "language_info": {
   "codemirror_mode": {
    "name": "ipython",
    "version": 3
   },
   "file_extension": ".py",
   "mimetype": "text/x-python",
   "name": "python",
   "nbconvert_exporter": "python",
   "pygments_lexer": "ipython3",
   "version": "3.13.2"
  }
 },
 "nbformat": 4,
 "nbformat_minor": 5
}
